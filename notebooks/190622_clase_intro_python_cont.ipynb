{
 "cells": [
  {
   "cell_type": "markdown",
   "metadata": {},
   "source": [
    "## Clase del 21 de Junio\n"
   ]
  },
  {
   "cell_type": "markdown",
   "metadata": {},
   "source": [
    "Bienvenidos de nuevo a la clase de python ! "
   ]
  },
  {
   "cell_type": "markdown",
   "metadata": {},
   "source": [
    "### Ejercicio reto : solución\n",
    "\n",
    "Instrucciones: tomar 3 cartas de manera aleatoria  de una baraja bien revuelta (eventos independientes) ¿cuál es la probabilidad de encontrar 3 cartas rojas de manera seguida?\n",
    "\n",
    "\n",
    "Solución: Lo primero que hay que hacer para resolver el problema, es asumir que cada muestra es independiente. Por la definición de independencia probabilística tenemos   : \n",
    "\n",
    "\\begin{align}\n",
    "\\text{P (3 rojas seguidas) = P (roja 1 $\\cap$ roja 2  $\\cap$  roja 3) = P (roja 1) · P(roja 2) ·  P (roja 3)}\n",
    "\\end{align}\n",
    "\n",
    "\n",
    "Por lo tanto solo tenemos que calcular la probabilidad de cada evento de manera individual y luego hacer la multiplicación. Como una baraja tiene 52 cartas y la mitad son rojas, tenemos las siguientes probabilidades\n"
   ]
  },
  {
   "cell_type": "code",
   "execution_count": 4,
   "metadata": {
    "ExecuteTime": {
     "end_time": "2019-06-22T17:54:23.435129Z",
     "start_time": "2019-06-22T10:54:23.422252-07:00"
    }
   },
   "outputs": [
    {
     "data": {
      "text/plain": [
       "0.118"
      ]
     },
     "execution_count": 4,
     "metadata": {},
     "output_type": "execute_result"
    }
   ],
   "source": [
    "import numpy as np\n",
    "\n",
    "p_roja_1 = 26/52\n",
    "\n",
    "p_roja_2 = 25 / 51\n",
    "\n",
    "p_roja_3 = 24 / 50 \n",
    "\n",
    "p_total = np.round(p_roja_1 * p_roja_2 * p_roja_3, 3)\n",
    "\n",
    "p_total"
   ]
  },
  {
   "cell_type": "markdown",
   "metadata": {},
   "source": [
    "Otra forma de hacer el cálculo, es utilizando una técnica de conteo que se conoce como combinaciones. Hoy les dejaré de tarea que lean un poco y lo platicaremos más a fondo las próximas clases, después de que terminemos con la introducción a python. \n",
    "\n",
    "Por ahora les puedo comentar que para calcular las combinaciones, o el número total formas para escoger *k* elementos de un espacio muestral de tamaño *n* se calcula de la siguiente forma. Se lee : *\"combinaciones de n en k\"*\n",
    "\n",
    "\\begin{align}\n",
    "\\begin{pmatrix}\n",
    "n \\\\\n",
    "k\n",
    "\\end{pmatrix} = \n",
    "\\frac{n!}{k! (n - k)!}\n",
    "\\end{align}\n",
    "\n",
    "Este operador también es conocido en matemáticas como coeficiente binomial. Lo podemos utilizar para calcular la probabilidad de tomar 3 cartas rojas de manera consecutiva. El problema se plantea de la siguiente forma. Por la fórmula de probabilidad tenemos : \n",
    "\n",
    "\\begin{align}\n",
    "\\text{P } = \\frac {\\text{numero de eventos favorables}}{\\text{numero total de eventos}}\n",
    "\\end{align}\n",
    "\n",
    "\\begin{align}\n",
    "\\text{P (3 rojas seguidas)}=\n",
    "\\frac\n",
    "{\n",
    "\\begin{pmatrix}\n",
    "26 \\\\\n",
    "3\n",
    "\\end{pmatrix}\n",
    "}\n",
    "{\n",
    "\\begin{pmatrix}\n",
    "52 \\\\\n",
    "3\n",
    "\\end{pmatrix}\n",
    "}\n",
    "\\end{align}\n",
    "\n",
    "Con esta formula, podemos calcular la probabilidad en python usando la librería scipy. "
   ]
  },
  {
   "cell_type": "code",
   "execution_count": 7,
   "metadata": {
    "ExecuteTime": {
     "end_time": "2019-06-22T17:55:55.524035Z",
     "start_time": "2019-06-22T10:55:55.520386-07:00"
    }
   },
   "outputs": [],
   "source": [
    "from scipy.special import comb as coef_binomial"
   ]
  },
  {
   "cell_type": "code",
   "execution_count": 10,
   "metadata": {
    "ExecuteTime": {
     "end_time": "2019-06-22T17:56:27.209295Z",
     "start_time": "2019-06-22T10:56:27.202340-07:00"
    }
   },
   "outputs": [
    {
     "data": {
      "text/plain": [
       "0.118"
      ]
     },
     "execution_count": 10,
     "metadata": {},
     "output_type": "execute_result"
    }
   ],
   "source": [
    "p_total = coef_binomial(26, 3) / coef_binomial(52, 3)\n",
    "\n",
    "np.round(p_total, 3)"
   ]
  },
  {
   "cell_type": "markdown",
   "metadata": {},
   "source": [
    "## Continuación : intro a python "
   ]
  },
  {
   "cell_type": "markdown",
   "metadata": {
    "ExecuteTime": {
     "end_time": "2019-06-11T16:33:52.431342Z",
     "start_time": "2019-06-11T11:33:52.428193-05:00"
    }
   },
   "source": [
    "### Las funciones pueden pasarse como argumentos en python."
   ]
  },
  {
   "cell_type": "code",
   "execution_count": null,
   "metadata": {
    "ExecuteTime": {
     "end_time": "2019-06-11T18:03:13.235312Z",
     "start_time": "2019-06-11T13:03:13.218377-05:00"
    }
   },
   "outputs": [],
   "source": [
    "data = [{'nombre':'Guido', 'apellido':'Van Rossum', 'año':1956},\n",
    "        {'nombre':'Grace', 'apellido':'Hopper',     'año':1906},\n",
    "        {'nombre':'Alan',  'apellido':'Turing',     'año':1912}]\n",
    "\n"
   ]
  },
  {
   "cell_type": "code",
   "execution_count": null,
   "metadata": {
    "ExecuteTime": {
     "end_time": "2019-06-11T16:34:13.786423Z",
     "start_time": "2019-06-11T11:34:13.759859-05:00"
    }
   },
   "outputs": [],
   "source": [
    "sorted([2,4,3,5,1,6])\n"
   ]
  },
  {
   "cell_type": "code",
   "execution_count": null,
   "metadata": {
    "ExecuteTime": {
     "end_time": "2019-06-11T18:03:20.649482Z",
     "start_time": "2019-06-11T13:03:20.640008-05:00"
    }
   },
   "outputs": [],
   "source": [
    "#sort por nombre\n",
    "sorted(data, key=lambda item: item['nombre'])"
   ]
  },
  {
   "cell_type": "code",
   "execution_count": null,
   "metadata": {
    "ExecuteTime": {
     "end_time": "2019-06-11T18:03:24.418965Z",
     "start_time": "2019-06-11T13:03:24.412405-05:00"
    }
   },
   "outputs": [],
   "source": [
    "# sort por año de nacimiento\n",
    "sorted(data, key=lambda item: item['año'])"
   ]
  },
  {
   "cell_type": "code",
   "execution_count": null,
   "metadata": {},
   "outputs": [],
   "source": []
  },
  {
   "cell_type": "code",
   "execution_count": null,
   "metadata": {},
   "outputs": [],
   "source": []
  },
  {
   "cell_type": "markdown",
   "metadata": {},
   "source": [
    "### Some errors "
   ]
  },
  {
   "cell_type": "code",
   "execution_count": null,
   "metadata": {
    "ExecuteTime": {
     "end_time": "2019-06-11T16:35:25.441090Z",
     "start_time": "2019-06-11T11:35:25.308640-05:00"
    }
   },
   "outputs": [],
   "source": [
    "print(Q)"
   ]
  },
  {
   "cell_type": "code",
   "execution_count": null,
   "metadata": {
    "ExecuteTime": {
     "end_time": "2019-06-11T16:35:36.057342Z",
     "start_time": "2019-06-11T11:35:36.047589-05:00"
    }
   },
   "outputs": [],
   "source": [
    "1 + 'abc'\n"
   ]
  },
  {
   "cell_type": "code",
   "execution_count": null,
   "metadata": {
    "ExecuteTime": {
     "end_time": "2019-06-11T16:35:41.123278Z",
     "start_time": "2019-06-11T11:35:41.113902-05:00"
    }
   },
   "outputs": [],
   "source": [
    "2 / 0\n"
   ]
  },
  {
   "cell_type": "markdown",
   "metadata": {},
   "source": [
    "### Try and except"
   ]
  },
  {
   "cell_type": "markdown",
   "metadata": {},
   "source": [
    "La mejor herramienta para manejar errores dentro de funciones es la declaración `try - except`\n"
   ]
  },
  {
   "cell_type": "code",
   "execution_count": null,
   "metadata": {
    "ExecuteTime": {
     "end_time": "2019-06-11T16:36:11.391647Z",
     "start_time": "2019-06-11T11:36:11.384381-05:00"
    }
   },
   "outputs": [],
   "source": [
    "try:\n",
    "    print(\"this gets executed first\")\n",
    "except:\n",
    "    print(\"this gets executed only if there is an error\")"
   ]
  },
  {
   "cell_type": "code",
   "execution_count": null,
   "metadata": {},
   "outputs": [],
   "source": [
    "try:\n",
    "    print(\"let's try something:\")\n",
    "    x = 1 / 0 # ZeroDivisionError\n",
    "except:\n",
    "    print(\"something bad happened!\")"
   ]
  },
  {
   "cell_type": "code",
   "execution_count": null,
   "metadata": {
    "ExecuteTime": {
     "end_time": "2019-06-11T16:37:07.873698Z",
     "start_time": "2019-06-11T11:37:07.868811-05:00"
    }
   },
   "outputs": [],
   "source": [
    "def safe_divide(a, b):\n",
    "    try:\n",
    "        return a / b\n",
    "    except:\n",
    "        return 1E100"
   ]
  },
  {
   "cell_type": "code",
   "execution_count": null,
   "metadata": {
    "ExecuteTime": {
     "end_time": "2019-06-11T16:36:25.146991Z",
     "start_time": "2019-06-11T11:36:25.141056-05:00"
    }
   },
   "outputs": [],
   "source": [
    "safe_divide(1, 2)\n"
   ]
  },
  {
   "cell_type": "code",
   "execution_count": null,
   "metadata": {
    "ExecuteTime": {
     "end_time": "2019-06-11T16:36:28.660172Z",
     "start_time": "2019-06-11T11:36:28.654115-05:00"
    }
   },
   "outputs": [],
   "source": [
    "safe_divide(2, 0)\n"
   ]
  },
  {
   "cell_type": "code",
   "execution_count": null,
   "metadata": {
    "ExecuteTime": {
     "end_time": "2019-06-11T16:37:09.754183Z",
     "start_time": "2019-06-11T11:37:09.748226-05:00"
    }
   },
   "outputs": [],
   "source": [
    "safe_divide (1, '2')"
   ]
  },
  {
   "cell_type": "code",
   "execution_count": null,
   "metadata": {
    "ExecuteTime": {
     "end_time": "2019-06-11T16:37:17.888077Z",
     "start_time": "2019-06-11T11:37:17.883922-05:00"
    }
   },
   "outputs": [],
   "source": [
    "def safe_divide_correct(a, b):\n",
    "    try:\n",
    "        return a / b\n",
    "    except ZeroDivisionError:\n",
    "        return 1E100"
   ]
  },
  {
   "cell_type": "code",
   "execution_count": null,
   "metadata": {
    "ExecuteTime": {
     "end_time": "2019-06-11T16:37:19.736149Z",
     "start_time": "2019-06-11T11:37:19.723742-05:00"
    }
   },
   "outputs": [],
   "source": [
    "safe_divide_correct (1, '2')"
   ]
  },
  {
   "cell_type": "markdown",
   "metadata": {},
   "source": [
    "### Modulos de python"
   ]
  },
  {
   "cell_type": "code",
   "execution_count": null,
   "metadata": {
    "ExecuteTime": {
     "end_time": "2019-06-11T16:49:46.200117Z",
     "start_time": "2019-06-11T11:49:46.191497-05:00"
    }
   },
   "outputs": [],
   "source": [
    "import math\n",
    "math.cos(math.pi)"
   ]
  },
  {
   "cell_type": "code",
   "execution_count": null,
   "metadata": {
    "ExecuteTime": {
     "end_time": "2019-06-11T16:49:52.088734Z",
     "start_time": "2019-06-11T11:49:52.078218-05:00"
    }
   },
   "outputs": [],
   "source": [
    "import numpy as np\n",
    "np.cos(np.pi)"
   ]
  },
  {
   "cell_type": "code",
   "execution_count": null,
   "metadata": {
    "ExecuteTime": {
     "end_time": "2019-06-11T16:49:57.450056Z",
     "start_time": "2019-06-11T11:49:57.443543-05:00"
    }
   },
   "outputs": [],
   "source": [
    "from math import cos, pi\n",
    "cos(pi)"
   ]
  },
  {
   "cell_type": "code",
   "execution_count": null,
   "metadata": {
    "ExecuteTime": {
     "end_time": "2019-06-11T16:50:06.124997Z",
     "start_time": "2019-06-11T11:50:06.117284-05:00"
    }
   },
   "outputs": [],
   "source": [
    "help(sum)\n"
   ]
  },
  {
   "cell_type": "code",
   "execution_count": null,
   "metadata": {
    "ExecuteTime": {
     "end_time": "2019-06-22T05:46:34.623577Z",
     "start_time": "2019-06-21T22:46:34.074435-07:00"
    }
   },
   "outputs": [],
   "source": [
    "import matplotlib.pyplot as plt # cargando el módulo pyplot de la librería plt "
   ]
  },
  {
   "cell_type": "code",
   "execution_count": null,
   "metadata": {
    "ExecuteTime": {
     "end_time": "2019-06-22T05:46:47.133621Z",
     "start_time": "2019-06-21T22:46:47.130009-07:00"
    }
   },
   "outputs": [],
   "source": [
    "x = np.linspace(0,10,100)"
   ]
  },
  {
   "cell_type": "code",
   "execution_count": null,
   "metadata": {
    "ExecuteTime": {
     "end_time": "2019-06-22T05:46:53.403380Z",
     "start_time": "2019-06-21T22:46:53.095179-07:00"
    }
   },
   "outputs": [],
   "source": [
    "plt.plot(x)"
   ]
  },
  {
   "cell_type": "code",
   "execution_count": null,
   "metadata": {
    "ExecuteTime": {
     "end_time": "2019-06-22T05:47:20.154147Z",
     "start_time": "2019-06-21T22:47:19.970186-07:00"
    }
   },
   "outputs": [],
   "source": [
    "plt.plot(x)\n",
    "plt.show()"
   ]
  },
  {
   "cell_type": "code",
   "execution_count": null,
   "metadata": {
    "ExecuteTime": {
     "end_time": "2019-06-22T05:47:24.319325Z",
     "start_time": "2019-06-21T22:47:24.300554-07:00"
    }
   },
   "outputs": [],
   "source": [
    "%matplotlib inline"
   ]
  },
  {
   "cell_type": "code",
   "execution_count": null,
   "metadata": {
    "ExecuteTime": {
     "end_time": "2019-06-22T05:47:27.806276Z",
     "start_time": "2019-06-21T22:47:27.564354-07:00"
    }
   },
   "outputs": [],
   "source": [
    "plt.plot(x)"
   ]
  },
  {
   "cell_type": "code",
   "execution_count": null,
   "metadata": {
    "ExecuteTime": {
     "end_time": "2019-06-22T05:48:29.919668Z",
     "start_time": "2019-06-21T22:48:29.916044-07:00"
    }
   },
   "outputs": [],
   "source": [
    "indices= np.arange(len(x))"
   ]
  },
  {
   "cell_type": "code",
   "execution_count": null,
   "metadata": {
    "ExecuteTime": {
     "end_time": "2019-06-22T05:49:20.779200Z",
     "start_time": "2019-06-21T22:49:20.764882-07:00"
    }
   },
   "outputs": [],
   "source": [
    "# This enables high res graphics inline\n",
    "%config InlineBackend.figure_format = 'svg'"
   ]
  },
  {
   "cell_type": "code",
   "execution_count": null,
   "metadata": {
    "ExecuteTime": {
     "end_time": "2019-06-22T05:52:09.195139Z",
     "start_time": "2019-06-21T22:52:09.038114-07:00"
    }
   },
   "outputs": [],
   "source": [
    "plt.plot(indices, x)\n",
    "plt.xlabel('x')\n",
    "plt.ylabel('y')\n",
    "plt.title('graficar en python es fácil')"
   ]
  },
  {
   "cell_type": "code",
   "execution_count": null,
   "metadata": {
    "ExecuteTime": {
     "end_time": "2019-06-22T05:49:44.320720Z",
     "start_time": "2019-06-21T22:49:44.317148-07:00"
    }
   },
   "outputs": [],
   "source": [
    "x_log = np.logspace(1, 6, 30)"
   ]
  },
  {
   "cell_type": "code",
   "execution_count": null,
   "metadata": {
    "ExecuteTime": {
     "end_time": "2019-06-22T05:49:46.780991Z",
     "start_time": "2019-06-21T22:49:46.617882-07:00"
    }
   },
   "outputs": [],
   "source": [
    "\n",
    "plt.plot(x_log)"
   ]
  },
  {
   "cell_type": "code",
   "execution_count": null,
   "metadata": {
    "ExecuteTime": {
     "end_time": "2019-06-22T05:50:02.212475Z",
     "start_time": "2019-06-21T22:50:01.201662-07:00"
    }
   },
   "outputs": [],
   "source": [
    "plt.plot(x_log)\n",
    "\n",
    "plt.yscale('log')"
   ]
  },
  {
   "cell_type": "code",
   "execution_count": null,
   "metadata": {
    "ExecuteTime": {
     "end_time": "2019-06-22T05:50:27.306823Z",
     "start_time": "2019-06-21T22:50:26.716333-07:00"
    }
   },
   "outputs": [],
   "source": [
    "plt.loglog(x_log)"
   ]
  },
  {
   "cell_type": "code",
   "execution_count": null,
   "metadata": {
    "ExecuteTime": {
     "end_time": "2019-06-22T05:50:53.872624Z",
     "start_time": "2019-06-21T22:50:52.522222-07:00"
    }
   },
   "outputs": [],
   "source": [
    "import seaborn as sns"
   ]
  },
  {
   "cell_type": "code",
   "execution_count": null,
   "metadata": {
    "ExecuteTime": {
     "end_time": "2019-06-22T05:51:25.372598Z",
     "start_time": "2019-06-21T22:51:25.120226-07:00"
    }
   },
   "outputs": [],
   "source": [
    "sns.lineplot(np.arange(len(x_log)), x_log)"
   ]
  },
  {
   "cell_type": "markdown",
   "metadata": {},
   "source": [
    "### Proxima clase: iniciar desde aplicar funciones como argumentos en py (3.3) >> hasta expresiones regulares"
   ]
  },
  {
   "cell_type": "markdown",
   "metadata": {},
   "source": [
    "## Algunas librerías que nos servirán \n",
    "\n",
    "* os and sys: Tools for interfacing with the operating system, including navigating file directory structures and executing shell commands\n",
    "* math and cmath: Mathematical functions and operations on real and complex numbers\n",
    "* itertools: Tools for constructing and interacting with iterators and generators\n",
    "* functools: Tools that assist with functional programming\n",
    "* random: Tools for generating pseudorandom numbers\n",
    "* pickle: Tools for object persistence: saving objects to and loading objects from disk\n",
    "* json and csv: Tools for reading JSON-formatted and CSV-formatted files.\n",
    "* urllib: Tools for doing HTTP and other web requests"
   ]
  },
  {
   "cell_type": "markdown",
   "metadata": {},
   "source": [
    "### Tarea : código\n"
   ]
  },
  {
   "cell_type": "markdown",
   "metadata": {
    "ExecuteTime": {
     "end_time": "2019-06-22T05:40:47.592675Z",
     "start_time": "2019-06-21T22:40:47.587916-07:00"
    }
   },
   "source": [
    "Hacer un ciclo `for` para imprimir el largo de cada elemento en la siguiente lista."
   ]
  },
  {
   "cell_type": "code",
   "execution_count": null,
   "metadata": {},
   "outputs": [],
   "source": [
    "lista_a = ['python', 'es', 'divertido', 'y', 'fácil']\n",
    "\n",
    "# Escribe tu código aquí\n"
   ]
  },
  {
   "cell_type": "markdown",
   "metadata": {},
   "source": [
    "Ahora, guarda el largo de cada elemento en una lista que se llame \"long\" usando list comprehension."
   ]
  },
  {
   "cell_type": "code",
   "execution_count": null,
   "metadata": {},
   "outputs": [],
   "source": [
    "long = #escribe tu cógido aquí"
   ]
  },
  {
   "cell_type": "markdown",
   "metadata": {},
   "source": [
    "###### Bigramas\n",
    "\n",
    "\n",
    "Un bigrama es una secuencia de dos palabras seguidas una de otra, o co-localizadas en una frase. Por ejemplo los bigramas de la frase \"*hasta la vista baby*\" son : \n",
    "\n",
    "1. hasta la\n",
    "2. la vista\n",
    "3. vista baby\n",
    "\n",
    "\n",
    "Utilizando list comprehension, haz una nueva lista que contenga todos los posbiles bigramas de la `lista_a`.\n"
   ]
  },
  {
   "cell_type": "code",
   "execution_count": null,
   "metadata": {},
   "outputs": [],
   "source": [
    "#escribe tu código aquí\n"
   ]
  },
  {
   "cell_type": "markdown",
   "metadata": {},
   "source": [
    "Hacer tres listas con 1) los nombres tres artistas famosos, 2) sus obras más famosas (las puedes eligir arbitrariamente, o la primera entrada en wikipedia) con los  y 3) su año de nacimiento y volverlas un diccionario utilizando `zip`"
   ]
  },
  {
   "cell_type": "code",
   "execution_count": null,
   "metadata": {
    "ExecuteTime": {
     "end_time": "2019-06-11T17:04:16.179848Z",
     "start_time": "2019-06-11T12:04:16.175569-05:00"
    }
   },
   "outputs": [],
   "source": [
    "#escribe tu código aqui \n"
   ]
  },
  {
   "cell_type": "markdown",
   "metadata": {},
   "source": [
    "### Tarea : investigación \n",
    "\n",
    "¿qué es la media de una distribución? \n",
    "\n",
    "¿cuál es la diferencia entre media y mediana?\n",
    "\n",
    "¿cuál es la ventaja de la mediana sobre la media ? \n",
    "\n",
    "¿que es un percentil de una distribucion?\n",
    "\n",
    "¿que son los cuartiles? "
   ]
  },
  {
   "cell_type": "markdown",
   "metadata": {},
   "source": [
    "### Tarea: lectura\n",
    "\n",
    "Leer pags 11 - 18 del libro de Seeing theory \n",
    "\n",
    "Leer pags 1 - 11 de Blitzstein y Hwang (enviado por correo ). "
   ]
  },
  {
   "cell_type": "code",
   "execution_count": null,
   "metadata": {},
   "outputs": [],
   "source": []
  }
 ],
 "metadata": {
  "kernelspec": {
   "display_name": "Python 3",
   "language": "python",
   "name": "python3"
  },
  "language_info": {
   "codemirror_mode": {
    "name": "ipython",
    "version": 3
   },
   "file_extension": ".py",
   "mimetype": "text/x-python",
   "name": "python",
   "nbconvert_exporter": "python",
   "pygments_lexer": "ipython3",
   "version": "3.6.7"
  },
  "toc": {
   "base_numbering": 1,
   "nav_menu": {},
   "number_sections": true,
   "sideBar": true,
   "skip_h1_title": false,
   "title_cell": "Table of Contents",
   "title_sidebar": "Contents",
   "toc_cell": false,
   "toc_position": {},
   "toc_section_display": true,
   "toc_window_display": false
  },
  "varInspector": {
   "cols": {
    "lenName": 16,
    "lenType": 16,
    "lenVar": 40
   },
   "kernels_config": {
    "python": {
     "delete_cmd_postfix": "",
     "delete_cmd_prefix": "del ",
     "library": "var_list.py",
     "varRefreshCmd": "print(var_dic_list())"
    },
    "r": {
     "delete_cmd_postfix": ") ",
     "delete_cmd_prefix": "rm(",
     "library": "var_list.r",
     "varRefreshCmd": "cat(var_dic_list()) "
    }
   },
   "types_to_exclude": [
    "module",
    "function",
    "builtin_function_or_method",
    "instance",
    "_Feature"
   ],
   "window_display": false
  }
 },
 "nbformat": 4,
 "nbformat_minor": 2
}
