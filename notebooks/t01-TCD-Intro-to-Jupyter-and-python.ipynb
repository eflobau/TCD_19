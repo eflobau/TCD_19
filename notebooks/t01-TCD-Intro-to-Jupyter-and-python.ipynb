{
 "cells": [
  {
   "cell_type": "markdown",
   "metadata": {},
   "source": [
    "\n",
    "## TCD_19 Tutorial 2 . Intro to Jupyter and python\n",
    "\n",
    "\n",
    "\n",
    "Created by Emanuel Flores-Bautista 2019  All content contained in this notebook is licensed under a [Creative Commons License 4.0](https://creativecommons.org/licenses/by/4.0/). The code is licensed under a [MIT license](https://opensource.org/licenses/MIT).\n",
    "\n",
    "\n",
    "\n",
    "Hi and welcome to **Taller de Ciencia de Datos 2019 (TCD_19)**. In this notebook we'll go through some basic features of the amazing Jupyter Notebooks. We will be using Python in this notebook but Jupyter supports more than 40 programming languages. If you want to know more about the Jupyter notebook project, check out their [website](http://jupyter.org/). Here is a very interesting [article](https://www.theatlantic.com/science/archive/2018/04/the-scientific-paper-is-obsolete/556676/) that describes why Jupyter Notebooks just might be the future for scientific papers! If you want to check some cool projects using Jupyter, check out [NBviewer](http://nbviewer.jupyter.org/). \n",
    "\n",
    "First we'll import some libraries that we will be using throughout the course.\n"
   ]
  },
  {
   "cell_type": "code",
   "execution_count": 1,
   "metadata": {
    "ExecuteTime": {
     "end_time": "2019-04-03T01:09:12.593582Z",
     "start_time": "2019-04-02T19:09:09.953202-06:00"
    }
   },
   "outputs": [],
   "source": [
    "##This Python Magic command allows graphs to be plotted in the notebook\n",
    "%matplotlib inline\n",
    "##This command sets the graphs format to svg\n",
    "%config InlineBackend.figure_format = 'svg'\n",
    "\n",
    "import numpy as np\n",
    "import pandas as pd\n",
    "from scipy.integrate import odeint\n",
    "import matplotlib.pyplot as plt\n",
    "import seaborn as sns"
   ]
  },
  {
   "cell_type": "markdown",
   "metadata": {},
   "source": [
    "### Before we continue, you might be wondering *what the heck  is Jupyter?*\n",
    "\n",
    "As you might already seen, Jupyter is a way to combine text, math( and LaTEX) and code in an easy-to-read document that runs in a web browser. Jupyter is also an open-source project that spun out of [IPython](https://ipython.org/) (hence the termination of the file format of our notebook `.ipynb`), a project that seek out to rapidly prototype code in Python, in a fun and interactive way. \n",
    "\n",
    "To see some Jupyter tricks and shortcuts like the IPython magic commands check this\n",
    "[post](https://www.dataquest.io/blog/jupyter-notebook-tips-tricks-shortcuts/)\n",
    "\n",
    "\n",
    "\n",
    "\n",
    "The name \"Jupyter\" is a combination of [Julia](https://julialang.org/) (a programming language), [Python](https://www.python.org/) (which we'll be using), and [Ruby](https://www.r-project.org/) (statistics software environment). However, you currently can run over 40 different languages in a Jupyter notebook, not just Julia, Python, and R.\n",
    "\n",
    "Okay, enough of some history about Jupy notebooks. Let's see their power in action\n",
    "\n",
    "* To launch a Jupyter Notebook, from the command line ( Terminal for Mac/Unix users, open the search line and type Jupyter Notebook for Windows users ) type\n",
    "\n",
    "\n"
   ]
  },
  {
   "cell_type": "markdown",
   "metadata": {},
   "source": [
    "> `jupyter notebook`"
   ]
  },
  {
   "cell_type": "markdown",
   "metadata": {},
   "source": [
    "When you launch Jupyter, you will be presented with a menu of files in your current working directory to choose to edit. You can click \"New\" in the upper right corner to get a new Jupyter notebook. "
   ]
  },
  {
   "cell_type": "markdown",
   "metadata": {},
   "source": [
    "### Why Python? "
   ]
  },
  {
   "cell_type": "markdown",
   "metadata": {},
   "source": [
    "* Python is a clear and powerful programming language\n",
    "* Python is easy for beginners to learn but goes a long way\n",
    "* Elegant syntax makes programs easy to read\n",
    "* Easy to learn, write, debug, and maintain code\n",
    "* Large standard library supports many common programming tasks\n",
    "*  Python has an extremely useful interactive mode for experimenting with code\n",
    "* Python can be extended by adding modules implemented in other languages\n",
    "* Runs on Windows, Mac OS X, Unix, Linux, Solaris, cell phones, etc.\n",
    "* Python is free to download and use\n",
    "* Very large online user community"
   ]
  },
  {
   "cell_type": "markdown",
   "metadata": {},
   "source": [
    "### Cells"
   ]
  },
  {
   "cell_type": "markdown",
   "metadata": {},
   "source": [
    "A Jupyter notebook consists of cells. There are two main types of cells you will use: **code cells and markdown cells**.\n",
    "\n",
    "Markdown cells contain text. The text is written in markdown, a lightweight markup language. You can read about its syntax [here](https://daringfireball.net/projects/markdown/syntax), you can find a useful Markdown cheatsheet [here](https://github.com/adam-p/markdown-here/wiki/Markdown-Cheatsheet). Note that you can also insert HTML into markdown cells, and this will be rendered properly. As you are typing the contents of these cells, the results appear as text. Actually all of the above is written in Markdown except for the cells that are importing the libraries.\n",
    "\n",
    "To execute the content of a cell, just press `Shift` and `Enter`. \n",
    "\n",
    "The shortcut to add a cell below is to press `Esc+ b`.\n",
    "\n",
    "The shortcut to add a cell below is to press `Esc+ a`.\n",
    "\n",
    "The shortcut to turn a (code)cell a markdown cell is to press `Esc+ m`.\n",
    "\n",
    "There are quite a few usefull shortcuts in Jupy notebooks, which you can check in the keyboard icon at the Toolbar. Otherwise you can do this manually at the Toolbar. \n"
   ]
  },
  {
   "cell_type": "markdown",
   "metadata": {},
   "source": [
    "### Common data structures in Python"
   ]
  },
  {
   "cell_type": "markdown",
   "metadata": {},
   "source": [
    "##### Strings"
   ]
  },
  {
   "cell_type": "markdown",
   "metadata": {},
   "source": [
    "Here is an examples of using strings in Python. "
   ]
  },
  {
   "cell_type": "code",
   "execution_count": 2,
   "metadata": {
    "ExecuteTime": {
     "end_time": "2019-04-03T01:19:19.527810Z",
     "start_time": "2019-04-02T19:19:18.330572-06:00"
    }
   },
   "outputs": [
    {
     "name": "stdout",
     "output_type": "stream",
     "text": [
      " Enter your name : \n",
      " Hello !\n"
     ]
    }
   ],
   "source": [
    "name = input(\" Enter your name : \")\n",
    "print (\" Hello \" + name + \"!\")"
   ]
  },
  {
   "cell_type": "markdown",
   "metadata": {},
   "source": [
    "Some math: integers are `int`s and floating points are `float`s\n"
   ]
  },
  {
   "cell_type": "markdown",
   "metadata": {},
   "source": [
    "You can use code cells as a calculator. "
   ]
  },
  {
   "cell_type": "code",
   "execution_count": 3,
   "metadata": {
    "ExecuteTime": {
     "end_time": "2019-04-03T01:19:22.146306Z",
     "start_time": "2019-04-02T19:19:22.132775-06:00"
    }
   },
   "outputs": [
    {
     "data": {
      "text/plain": [
       "8"
      ]
     },
     "execution_count": 3,
     "metadata": {},
     "output_type": "execute_result"
    }
   ],
   "source": [
    "5+3"
   ]
  },
  {
   "cell_type": "code",
   "execution_count": 4,
   "metadata": {
    "ExecuteTime": {
     "end_time": "2019-04-03T01:19:24.283394Z",
     "start_time": "2019-04-02T19:19:24.277031-06:00"
    }
   },
   "outputs": [
    {
     "data": {
      "text/plain": [
       "int"
      ]
     },
     "execution_count": 4,
     "metadata": {},
     "output_type": "execute_result"
    }
   ],
   "source": [
    "type(8)"
   ]
  },
  {
   "cell_type": "code",
   "execution_count": 5,
   "metadata": {
    "ExecuteTime": {
     "end_time": "2019-04-03T01:19:25.036893Z",
     "start_time": "2019-04-02T19:19:25.030722-06:00"
    }
   },
   "outputs": [
    {
     "data": {
      "text/plain": [
       "float"
      ]
     },
     "execution_count": 5,
     "metadata": {},
     "output_type": "execute_result"
    }
   ],
   "source": [
    "type(8.8)"
   ]
  },
  {
   "cell_type": "code",
   "execution_count": 6,
   "metadata": {
    "ExecuteTime": {
     "end_time": "2019-04-03T01:19:27.221513Z",
     "start_time": "2019-04-02T19:19:27.215100-06:00"
    }
   },
   "outputs": [
    {
     "data": {
      "text/plain": [
       "20"
      ]
     },
     "execution_count": 6,
     "metadata": {},
     "output_type": "execute_result"
    }
   ],
   "source": [
    "x =5*4\n",
    "x"
   ]
  },
  {
   "cell_type": "markdown",
   "metadata": {},
   "source": [
    "The following won't work as $5^{2}$"
   ]
  },
  {
   "cell_type": "code",
   "execution_count": 7,
   "metadata": {
    "ExecuteTime": {
     "end_time": "2019-04-03T01:19:30.817734Z",
     "start_time": "2019-04-02T19:19:30.812183-06:00"
    }
   },
   "outputs": [
    {
     "data": {
      "text/plain": [
       "7"
      ]
     },
     "execution_count": 7,
     "metadata": {},
     "output_type": "execute_result"
    }
   ],
   "source": [
    "5^2"
   ]
  },
  {
   "cell_type": "markdown",
   "metadata": {},
   "source": [
    "This is the proper way to do it in Python: "
   ]
  },
  {
   "cell_type": "code",
   "execution_count": 8,
   "metadata": {
    "ExecuteTime": {
     "end_time": "2019-04-03T01:19:36.145867Z",
     "start_time": "2019-04-02T19:19:36.137913-06:00"
    }
   },
   "outputs": [
    {
     "data": {
      "text/plain": [
       "25"
      ]
     },
     "execution_count": 8,
     "metadata": {},
     "output_type": "execute_result"
    }
   ],
   "source": [
    "y= 5**2 \n",
    "y"
   ]
  },
  {
   "cell_type": "markdown",
   "metadata": {},
   "source": [
    "##### Bolean"
   ]
  },
  {
   "cell_type": "code",
   "execution_count": 9,
   "metadata": {
    "ExecuteTime": {
     "end_time": "2019-04-03T01:19:37.070984Z",
     "start_time": "2019-04-02T19:19:37.065529-06:00"
    }
   },
   "outputs": [
    {
     "data": {
      "text/plain": [
       "True"
      ]
     },
     "execution_count": 9,
     "metadata": {},
     "output_type": "execute_result"
    }
   ],
   "source": [
    "x<y"
   ]
  },
  {
   "cell_type": "code",
   "execution_count": 10,
   "metadata": {
    "ExecuteTime": {
     "end_time": "2019-04-03T01:19:37.317591Z",
     "start_time": "2019-04-02T19:19:37.308091-06:00"
    }
   },
   "outputs": [
    {
     "data": {
      "text/plain": [
       "True"
      ]
     },
     "execution_count": 10,
     "metadata": {},
     "output_type": "execute_result"
    }
   ],
   "source": [
    "x is not y"
   ]
  },
  {
   "cell_type": "code",
   "execution_count": 11,
   "metadata": {
    "ExecuteTime": {
     "end_time": "2019-04-03T01:19:37.623927Z",
     "start_time": "2019-04-02T19:19:37.615640-06:00"
    }
   },
   "outputs": [
    {
     "data": {
      "text/plain": [
       "False"
      ]
     },
     "execution_count": 11,
     "metadata": {},
     "output_type": "execute_result"
    }
   ],
   "source": [
    "x == y"
   ]
  },
  {
   "cell_type": "code",
   "execution_count": 12,
   "metadata": {
    "ExecuteTime": {
     "end_time": "2019-04-03T01:19:37.830993Z",
     "start_time": "2019-04-02T19:19:37.826270-06:00"
    }
   },
   "outputs": [],
   "source": [
    "z = 20 "
   ]
  },
  {
   "cell_type": "code",
   "execution_count": 13,
   "metadata": {
    "ExecuteTime": {
     "end_time": "2019-04-03T01:19:38.316033Z",
     "start_time": "2019-04-02T19:19:38.310517-06:00"
    }
   },
   "outputs": [
    {
     "data": {
      "text/plain": [
       "True"
      ]
     },
     "execution_count": 13,
     "metadata": {},
     "output_type": "execute_result"
    }
   ],
   "source": [
    "x is z"
   ]
  },
  {
   "cell_type": "code",
   "execution_count": 14,
   "metadata": {
    "ExecuteTime": {
     "end_time": "2019-04-03T01:19:39.349103Z",
     "start_time": "2019-04-02T19:19:39.342263-06:00"
    }
   },
   "outputs": [
    {
     "data": {
      "text/plain": [
       "True"
      ]
     },
     "execution_count": 14,
     "metadata": {},
     "output_type": "execute_result"
    }
   ],
   "source": [
    "x == z"
   ]
  },
  {
   "cell_type": "code",
   "execution_count": 15,
   "metadata": {
    "ExecuteTime": {
     "end_time": "2019-04-03T01:19:52.317591Z",
     "start_time": "2019-04-02T19:19:52.309638-06:00"
    }
   },
   "outputs": [
    {
     "data": {
      "text/plain": [
       "bool"
      ]
     },
     "execution_count": 15,
     "metadata": {},
     "output_type": "execute_result"
    }
   ],
   "source": [
    "type(True)"
   ]
  },
  {
   "cell_type": "code",
   "execution_count": 20,
   "metadata": {
    "ExecuteTime": {
     "end_time": "2019-04-03T01:21:04.706764Z",
     "start_time": "2019-04-02T19:21:04.697838-06:00"
    }
   },
   "outputs": [
    {
     "data": {
      "text/plain": [
       "True"
      ]
     },
     "execution_count": 20,
     "metadata": {},
     "output_type": "execute_result"
    }
   ],
   "source": [
    "True is not False"
   ]
  },
  {
   "cell_type": "markdown",
   "metadata": {},
   "source": [
    "##### Lists and tuples"
   ]
  },
  {
   "cell_type": "code",
   "execution_count": 21,
   "metadata": {
    "ExecuteTime": {
     "end_time": "2019-04-03T01:21:06.972132Z",
     "start_time": "2019-04-02T19:21:06.963963-06:00"
    }
   },
   "outputs": [
    {
     "name": "stdout",
     "output_type": "stream",
     "text": [
      "9\n",
      "<class 'tuple'>\n"
     ]
    }
   ],
   "source": [
    "x = (2,9,5) ##This is a tuple\n",
    "print(max (x)) # return the largest item using the max() method\n",
    "print(type(x)) # Show that x is a tuple"
   ]
  },
  {
   "cell_type": "code",
   "execution_count": 22,
   "metadata": {
    "ExecuteTime": {
     "end_time": "2019-04-03T01:21:07.851729Z",
     "start_time": "2019-04-02T19:21:07.845481-06:00"
    }
   },
   "outputs": [
    {
     "data": {
      "text/plain": [
       "12.3"
      ]
     },
     "execution_count": 22,
     "metadata": {},
     "output_type": "execute_result"
    }
   ],
   "source": [
    "# return a number rounded to n digits after the decimal point ( floating point )\n",
    "round (12.345 , 1) "
   ]
  },
  {
   "cell_type": "code",
   "execution_count": 23,
   "metadata": {
    "ExecuteTime": {
     "end_time": "2019-04-03T01:21:12.333243Z",
     "start_time": "2019-04-02T19:21:12.327833-06:00"
    }
   },
   "outputs": [
    {
     "data": {
      "text/plain": [
       "12"
      ]
     },
     "execution_count": 23,
     "metadata": {},
     "output_type": "execute_result"
    }
   ],
   "source": [
    "# return a number rounded to the nearest integer ( int )\n",
    "round (12.345)"
   ]
  },
  {
   "cell_type": "code",
   "execution_count": 24,
   "metadata": {
    "ExecuteTime": {
     "end_time": "2019-04-03T01:21:13.031311Z",
     "start_time": "2019-04-02T19:21:13.022812-06:00"
    }
   },
   "outputs": [
    {
     "data": {
      "text/plain": [
       "[1, 1.3, 20, 48]"
      ]
     },
     "execution_count": 24,
     "metadata": {},
     "output_type": "execute_result"
    }
   ],
   "source": [
    "# return a new sorted list from the items in iterable\n",
    "sorted ([48 ,20 ,1.3 ,1])"
   ]
  },
  {
   "cell_type": "code",
   "execution_count": 25,
   "metadata": {
    "ExecuteTime": {
     "end_time": "2019-04-03T01:21:18.272193Z",
     "start_time": "2019-04-02T19:21:18.264727-06:00"
    }
   },
   "outputs": [
    {
     "data": {
      "text/plain": [
       "True"
      ]
     },
     "execution_count": 25,
     "metadata": {},
     "output_type": "execute_result"
    }
   ],
   "source": [
    "# logical operations\n",
    "2 < 3 < 4"
   ]
  },
  {
   "cell_type": "code",
   "execution_count": 26,
   "metadata": {
    "ExecuteTime": {
     "end_time": "2019-04-03T01:21:26.354362Z",
     "start_time": "2019-04-02T19:21:26.340698-06:00"
    }
   },
   "outputs": [
    {
     "name": "stdout",
     "output_type": "stream",
     "text": [
      "the mean of y is  4.333333333333333\n",
      "the std deviation of y is  3.39934634239519\n",
      "the shape of the array y is  (3,)\n"
     ]
    }
   ],
   "source": [
    "y = np.array([1 ,3 ,9])\n",
    "print('the mean of y is ', y. mean())\n",
    "print('the std deviation of y is ', y.std())\n",
    "print('the shape of the array y is ', y.shape)"
   ]
  },
  {
   "cell_type": "code",
   "execution_count": 29,
   "metadata": {
    "ExecuteTime": {
     "end_time": "2019-04-03T01:23:23.864783Z",
     "start_time": "2019-04-02T19:23:23.856621-06:00"
    }
   },
   "outputs": [
    {
     "data": {
      "text/plain": [
       "0.456686447043239"
      ]
     },
     "execution_count": 29,
     "metadata": {},
     "output_type": "execute_result"
    }
   ],
   "source": [
    "import random\n",
    "random.random() ##returns a random number from 0 to 1"
   ]
  },
  {
   "cell_type": "code",
   "execution_count": 30,
   "metadata": {
    "ExecuteTime": {
     "end_time": "2019-04-03T01:23:24.471560Z",
     "start_time": "2019-04-02T19:23:24.465578-06:00"
    }
   },
   "outputs": [
    {
     "data": {
      "text/plain": [
       "10"
      ]
     },
     "execution_count": 30,
     "metadata": {},
     "output_type": "execute_result"
    }
   ],
   "source": [
    "random.choice ([10 , 15, 20, 25, 30, 35, 40])"
   ]
  },
  {
   "cell_type": "code",
   "execution_count": 31,
   "metadata": {
    "ExecuteTime": {
     "end_time": "2019-04-03T01:23:26.681380Z",
     "start_time": "2019-04-02T19:23:26.675108-06:00"
    }
   },
   "outputs": [
    {
     "data": {
      "text/plain": [
       "' Wednesday '"
      ]
     },
     "execution_count": 31,
     "metadata": {},
     "output_type": "execute_result"
    }
   ],
   "source": [
    "random.choice ([\" Monday \", \" Wednesday \", \" Friday\"])"
   ]
  },
  {
   "cell_type": "code",
   "execution_count": 32,
   "metadata": {
    "ExecuteTime": {
     "end_time": "2019-04-03T01:23:27.270258Z",
     "start_time": "2019-04-02T19:23:27.264069-06:00"
    }
   },
   "outputs": [
    {
     "data": {
      "text/plain": [
       "7"
      ]
     },
     "execution_count": 32,
     "metadata": {},
     "output_type": "execute_result"
    }
   ],
   "source": [
    "S = \" Python\"\n",
    "len(S) ##length"
   ]
  },
  {
   "cell_type": "code",
   "execution_count": 33,
   "metadata": {
    "ExecuteTime": {
     "end_time": "2019-04-03T01:23:27.922943Z",
     "start_time": "2019-04-02T19:23:27.917051-06:00"
    }
   },
   "outputs": [
    {
     "data": {
      "text/plain": [
       "' '"
      ]
     },
     "execution_count": 33,
     "metadata": {},
     "output_type": "execute_result"
    }
   ],
   "source": [
    "S[0] ## Returns the first element of string s \n"
   ]
  },
  {
   "cell_type": "code",
   "execution_count": 34,
   "metadata": {
    "ExecuteTime": {
     "end_time": "2019-04-03T01:23:29.299671Z",
     "start_time": "2019-04-02T19:23:29.293464-06:00"
    }
   },
   "outputs": [
    {
     "data": {
      "text/plain": [
       "' Py'"
      ]
     },
     "execution_count": 34,
     "metadata": {},
     "output_type": "execute_result"
    }
   ],
   "source": [
    "S [0:3] # slicing, starts at zero, second term is non-inclusive"
   ]
  },
  {
   "cell_type": "code",
   "execution_count": 36,
   "metadata": {
    "ExecuteTime": {
     "end_time": "2019-04-03T01:30:00.408993Z",
     "start_time": "2019-04-02T19:30:00.402247-06:00"
    }
   },
   "outputs": [
    {
     "data": {
      "text/plain": [
       "'n'"
      ]
     },
     "execution_count": 36,
     "metadata": {},
     "output_type": "execute_result"
    }
   ],
   "source": [
    "S[-1] # slices last term\n"
   ]
  },
  {
   "cell_type": "code",
   "execution_count": 38,
   "metadata": {
    "ExecuteTime": {
     "end_time": "2019-04-03T01:30:43.355640Z",
     "start_time": "2019-04-02T19:30:43.348707-06:00"
    }
   },
   "outputs": [
    {
     "data": {
      "text/plain": [
       "' Python'"
      ]
     },
     "execution_count": 38,
     "metadata": {},
     "output_type": "execute_result"
    }
   ],
   "source": [
    "S[:] #slices everything but the last term"
   ]
  },
  {
   "cell_type": "code",
   "execution_count": 39,
   "metadata": {
    "ExecuteTime": {
     "end_time": "2019-04-03T01:34:07.028054Z",
     "start_time": "2019-04-02T19:34:07.021811-06:00"
    }
   },
   "outputs": [
    {
     "data": {
      "text/plain": [
       "True"
      ]
     },
     "execution_count": 39,
     "metadata": {},
     "output_type": "execute_result"
    }
   ],
   "source": [
    "\"y\" in S # membership"
   ]
  },
  {
   "cell_type": "code",
   "execution_count": 40,
   "metadata": {
    "ExecuteTime": {
     "end_time": "2019-04-03T01:34:15.843576Z",
     "start_time": "2019-04-02T19:34:15.835737-06:00"
    }
   },
   "outputs": [
    {
     "data": {
      "text/plain": [
       "True"
      ]
     },
     "execution_count": 40,
     "metadata": {},
     "output_type": "execute_result"
    }
   ],
   "source": [
    "\"z\" not in S"
   ]
  },
  {
   "cell_type": "code",
   "execution_count": 41,
   "metadata": {
    "ExecuteTime": {
     "end_time": "2019-04-03T01:34:56.370399Z",
     "start_time": "2019-04-02T19:34:56.366266-06:00"
    }
   },
   "outputs": [],
   "source": [
    "names = [\" Peter \", \" John \", \" Mary \"]"
   ]
  },
  {
   "cell_type": "code",
   "execution_count": 46,
   "metadata": {
    "ExecuteTime": {
     "end_time": "2019-04-03T01:36:27.530920Z",
     "start_time": "2019-04-02T19:36:27.515134-06:00"
    }
   },
   "outputs": [
    {
     "data": {
      "text/plain": [
       "' Peter '"
      ]
     },
     "execution_count": 46,
     "metadata": {},
     "output_type": "execute_result"
    }
   ],
   "source": [
    "names[0]"
   ]
  },
  {
   "cell_type": "code",
   "execution_count": 47,
   "metadata": {
    "ExecuteTime": {
     "end_time": "2019-04-03T01:36:29.043046Z",
     "start_time": "2019-04-02T19:36:29.035434-06:00"
    }
   },
   "outputs": [
    {
     "data": {
      "text/plain": [
       "' John '"
      ]
     },
     "execution_count": 47,
     "metadata": {},
     "output_type": "execute_result"
    }
   ],
   "source": [
    "names [1]"
   ]
  },
  {
   "cell_type": "markdown",
   "metadata": {},
   "source": [
    "Lists are mutable. The `.append()` method is a quite useful method to add elements to a list. "
   ]
  },
  {
   "cell_type": "code",
   "execution_count": 48,
   "metadata": {
    "ExecuteTime": {
     "end_time": "2019-04-03T01:37:00.507128Z",
     "start_time": "2019-04-02T19:37:00.499896-06:00"
    }
   },
   "outputs": [
    {
     "data": {
      "text/plain": [
       "[' Peter ', ' John ', ' Mary ', ' Tom ']"
      ]
     },
     "execution_count": 48,
     "metadata": {},
     "output_type": "execute_result"
    }
   ],
   "source": [
    "names.append(\" Tom \")\n",
    "names"
   ]
  },
  {
   "cell_type": "code",
   "execution_count": null,
   "metadata": {},
   "outputs": [],
   "source": [
    "a = []"
   ]
  },
  {
   "cell_type": "code",
   "execution_count": 52,
   "metadata": {
    "ExecuteTime": {
     "end_time": "2019-04-03T01:49:14.195397Z",
     "start_time": "2019-04-02T19:49:14.190526-06:00"
    }
   },
   "outputs": [],
   "source": [
    "#Initialize list\n",
    "new_names= []\n",
    "\n",
    "#Start a for loop\n",
    "for name in names: \n",
    "    \n",
    "    new_names.append(name)"
   ]
  },
  {
   "cell_type": "code",
   "execution_count": 53,
   "metadata": {
    "ExecuteTime": {
     "end_time": "2019-04-03T01:49:15.116860Z",
     "start_time": "2019-04-02T19:49:15.112469-06:00"
    }
   },
   "outputs": [
    {
     "name": "stdout",
     "output_type": "stream",
     "text": [
      "[' Peter ', ' John ']\n"
     ]
    }
   ],
   "source": [
    "print(new_names)"
   ]
  },
  {
   "cell_type": "code",
   "execution_count": 54,
   "metadata": {
    "ExecuteTime": {
     "end_time": "2019-04-03T01:51:59.627728Z",
     "start_time": "2019-04-02T19:51:59.609575-06:00"
    }
   },
   "outputs": [
    {
     "data": {
      "text/plain": [
       "[' Peter ', ' John ', ' Mary ', ' Tom ', ' Jim ', 'Pepito']"
      ]
     },
     "execution_count": 54,
     "metadata": {},
     "output_type": "execute_result"
    }
   ],
   "source": [
    "names = names + [\" Jim \", \"Pepito\"] ## you can also add elements in this way \n",
    "names"
   ]
  },
  {
   "cell_type": "code",
   "execution_count": 57,
   "metadata": {
    "ExecuteTime": {
     "end_time": "2019-04-03T01:52:34.325448Z",
     "start_time": "2019-04-02T19:52:34.318806-06:00"
    }
   },
   "outputs": [
    {
     "data": {
      "text/plain": [
       "' John '"
      ]
     },
     "execution_count": 57,
     "metadata": {},
     "output_type": "execute_result"
    }
   ],
   "source": [
    "random.choice( names )"
   ]
  },
  {
   "cell_type": "code",
   "execution_count": 59,
   "metadata": {
    "ExecuteTime": {
     "end_time": "2019-04-03T01:54:56.315996Z",
     "start_time": "2019-04-02T19:54:56.306681-06:00"
    }
   },
   "outputs": [
    {
     "data": {
      "text/plain": [
       "(3,)"
      ]
     },
     "execution_count": 59,
     "metadata": {},
     "output_type": "execute_result"
    }
   ],
   "source": [
    "x = np.array([1,1,0])\n",
    "\n",
    "x.shape"
   ]
  },
  {
   "cell_type": "code",
   "execution_count": 60,
   "metadata": {
    "ExecuteTime": {
     "end_time": "2019-04-03T01:56:04.394046Z",
     "start_time": "2019-04-02T19:56:04.388863-06:00"
    }
   },
   "outputs": [],
   "source": [
    "names.reverse() # reverses the list in place ( common mutable sequence operation )"
   ]
  },
  {
   "cell_type": "code",
   "execution_count": 61,
   "metadata": {
    "ExecuteTime": {
     "end_time": "2019-04-03T01:56:10.056226Z",
     "start_time": "2019-04-02T19:56:10.028116-06:00"
    }
   },
   "outputs": [
    {
     "data": {
      "text/plain": [
       "['Pepito', ' Jim ', ' Tom ', ' Mary ', ' John ', ' Peter ']"
      ]
     },
     "execution_count": 61,
     "metadata": {},
     "output_type": "execute_result"
    }
   ],
   "source": [
    "names"
   ]
  },
  {
   "cell_type": "code",
   "execution_count": 65,
   "metadata": {
    "ExecuteTime": {
     "end_time": "2019-04-03T01:58:08.857054Z",
     "start_time": "2019-04-02T19:58:08.850910-06:00"
    }
   },
   "outputs": [
    {
     "data": {
      "text/plain": [
       "[' Jim ', ' John ', ' Mary ', ' Peter ', ' Tom ', 'Pepito']"
      ]
     },
     "execution_count": 65,
     "metadata": {},
     "output_type": "execute_result"
    }
   ],
   "source": [
    "sorted(names) # sorts the list i place ( list method )"
   ]
  },
  {
   "cell_type": "code",
   "execution_count": 63,
   "metadata": {
    "ExecuteTime": {
     "end_time": "2019-04-03T01:56:50.529843Z",
     "start_time": "2019-04-02T19:56:50.522282-06:00"
    }
   },
   "outputs": [
    {
     "data": {
      "text/plain": [
       "[' Peter ', ' John ', ' Mary ', ' Tom ', ' Jim ', 'Pepito']"
      ]
     },
     "execution_count": 63,
     "metadata": {},
     "output_type": "execute_result"
    }
   ],
   "source": [
    "names[::-1]"
   ]
  },
  {
   "cell_type": "markdown",
   "metadata": {},
   "source": [
    "##### Ranges"
   ]
  },
  {
   "cell_type": "markdown",
   "metadata": {},
   "source": [
    "Ranges are immutable sequences of integers normally used in for loops."
   ]
  },
  {
   "cell_type": "code",
   "execution_count": 66,
   "metadata": {
    "ExecuteTime": {
     "end_time": "2019-04-03T01:59:30.045893Z",
     "start_time": "2019-04-02T19:59:30.037034-06:00"
    }
   },
   "outputs": [
    {
     "data": {
      "text/plain": [
       "range(0, 5)"
      ]
     },
     "execution_count": 66,
     "metadata": {},
     "output_type": "execute_result"
    }
   ],
   "source": [
    "range(5) # stop"
   ]
  },
  {
   "cell_type": "code",
   "execution_count": 67,
   "metadata": {
    "ExecuteTime": {
     "end_time": "2019-04-03T01:59:31.335812Z",
     "start_time": "2019-04-02T19:59:31.325906-06:00"
    }
   },
   "outputs": [
    {
     "data": {
      "text/plain": [
       "range(1, 6)"
      ]
     },
     "execution_count": 67,
     "metadata": {},
     "output_type": "execute_result"
    }
   ],
   "source": [
    "range (1 ,6) # start and stop"
   ]
  },
  {
   "cell_type": "code",
   "execution_count": 68,
   "metadata": {
    "ExecuteTime": {
     "end_time": "2019-04-03T01:59:38.549783Z",
     "start_time": "2019-04-02T19:59:38.544131-06:00"
    }
   },
   "outputs": [
    {
     "data": {
      "text/plain": [
       "range(0, 11, 2)"
      ]
     },
     "execution_count": 68,
     "metadata": {},
     "output_type": "execute_result"
    }
   ],
   "source": [
    "range (0 ,11 ,2) # start and stop and step"
   ]
  },
  {
   "cell_type": "code",
   "execution_count": 71,
   "metadata": {
    "ExecuteTime": {
     "end_time": "2019-04-03T02:00:49.037018Z",
     "start_time": "2019-04-02T20:00:49.028563-06:00"
    }
   },
   "outputs": [
    {
     "name": "stdout",
     "output_type": "stream",
     "text": [
      "0\n",
      "1\n",
      "2\n",
      "3\n",
      "4\n",
      "5\n",
      "6\n",
      "7\n",
      "8\n",
      "9\n",
      "10\n"
     ]
    }
   ],
   "source": [
    "for i in range(0,11):\n",
    "    print(i)"
   ]
  },
  {
   "cell_type": "code",
   "execution_count": 72,
   "metadata": {
    "ExecuteTime": {
     "end_time": "2019-04-03T02:01:19.008532Z",
     "start_time": "2019-04-02T20:01:19.000728-06:00"
    }
   },
   "outputs": [
    {
     "data": {
      "text/plain": [
       "array([1, 1, 0])"
      ]
     },
     "execution_count": 72,
     "metadata": {},
     "output_type": "execute_result"
    }
   ],
   "source": [
    "x"
   ]
  },
  {
   "cell_type": "markdown",
   "metadata": {},
   "source": [
    "Oh si, puedo escribir en texto !!"
   ]
  },
  {
   "cell_type": "code",
   "execution_count": 76,
   "metadata": {
    "ExecuteTime": {
     "end_time": "2019-04-03T02:05:53.034283Z",
     "start_time": "2019-04-02T20:05:52.988909-06:00"
    }
   },
   "outputs": [],
   "source": [
    "?enumerate"
   ]
  },
  {
   "cell_type": "code",
   "execution_count": 75,
   "metadata": {
    "ExecuteTime": {
     "end_time": "2019-04-03T02:03:40.202892Z",
     "start_time": "2019-04-02T20:03:40.191934-06:00"
    }
   },
   "outputs": [
    {
     "name": "stdout",
     "output_type": "stream",
     "text": [
      "0 g\n",
      "1 a\n",
      "2 t\n",
      "3 i\n",
      "4 t\n",
      "5 o\n",
      "6  \n",
      "7 m\n",
      "8 o\n",
      "9 j\n",
      "10 a\n",
      "11 d\n",
      "12 o\n"
     ]
    }
   ],
   "source": [
    "for i, letra in enumerate('gatito mojado'):\n",
    "    \n",
    "    print(i, letra)"
   ]
  },
  {
   "cell_type": "code",
   "execution_count": 73,
   "metadata": {
    "ExecuteTime": {
     "end_time": "2019-04-03T02:01:33.466503Z",
     "start_time": "2019-04-02T20:01:33.458969-06:00"
    }
   },
   "outputs": [
    {
     "data": {
      "text/plain": [
       "[1, 1, 0]"
      ]
     },
     "execution_count": 73,
     "metadata": {},
     "output_type": "execute_result"
    }
   ],
   "source": [
    "list(x)"
   ]
  },
  {
   "cell_type": "code",
   "execution_count": 74,
   "metadata": {
    "ExecuteTime": {
     "end_time": "2019-04-03T02:01:59.051763Z",
     "start_time": "2019-04-02T20:01:59.044978-06:00"
    }
   },
   "outputs": [
    {
     "data": {
      "text/plain": [
       "[0, 2, 4, 6, 8, 10]"
      ]
     },
     "execution_count": 74,
     "metadata": {},
     "output_type": "execute_result"
    }
   ],
   "source": [
    "list(range (0,11 ,2)) # for printing it out"
   ]
  },
  {
   "cell_type": "markdown",
   "metadata": {},
   "source": [
    "##### Numpy arange and linspace. "
   ]
  },
  {
   "cell_type": "markdown",
   "metadata": {},
   "source": [
    "The following is taken from Jake Van der Plas awesome [Python Data Science Handbook](https://jakevdp.github.io/PythonDataScienceHandbook/02.02-the-basics-of-numpy-arrays.html):  "
   ]
  },
  {
   "cell_type": "code",
   "execution_count": 77,
   "metadata": {
    "ExecuteTime": {
     "end_time": "2019-04-03T02:09:26.390709Z",
     "start_time": "2019-04-02T20:09:26.381272-06:00"
    },
    "scrolled": true
   },
   "outputs": [
    {
     "data": {
      "text/plain": [
       "array([0, 1, 2, 3, 4, 5, 6, 7, 8, 9])"
      ]
     },
     "execution_count": 77,
     "metadata": {},
     "output_type": "execute_result"
    }
   ],
   "source": [
    "np.arange(0,10) "
   ]
  },
  {
   "cell_type": "code",
   "execution_count": 86,
   "metadata": {
    "ExecuteTime": {
     "end_time": "2019-04-03T02:18:42.418815Z",
     "start_time": "2019-04-02T20:18:42.415013-06:00"
    }
   },
   "outputs": [],
   "source": [
    "x = np.linspace(0, 10, 10) #linear space"
   ]
  },
  {
   "cell_type": "code",
   "execution_count": 87,
   "metadata": {
    "ExecuteTime": {
     "end_time": "2019-04-03T02:18:45.825558Z",
     "start_time": "2019-04-02T20:18:45.818503-06:00"
    }
   },
   "outputs": [
    {
     "data": {
      "text/plain": [
       "array([ 0.        ,  1.11111111,  2.22222222,  3.33333333,  4.44444444,\n",
       "        5.55555556,  6.66666667,  7.77777778,  8.88888889, 10.        ])"
      ]
     },
     "execution_count": 87,
     "metadata": {},
     "output_type": "execute_result"
    }
   ],
   "source": [
    "x"
   ]
  },
  {
   "cell_type": "code",
   "execution_count": 101,
   "metadata": {
    "ExecuteTime": {
     "end_time": "2019-04-03T02:23:01.193162Z",
     "start_time": "2019-04-02T20:23:01.186747-06:00"
    }
   },
   "outputs": [],
   "source": [
    "np.random.seed(0)  # seed for reproducibility\n",
    "\n",
    "x1 = np.random.randint(0, 10, size=6)  # One-dimensional array\n",
    "x2 = np.random.randint(0, 10, size=(3, 4))  # Two-dimensional array\n",
    "x3 = np.random.randint(0, 10, size=(3, 4, 5))  # Three-dimensional array"
   ]
  },
  {
   "cell_type": "code",
   "execution_count": 107,
   "metadata": {
    "ExecuteTime": {
     "end_time": "2019-04-03T02:25:03.429796Z",
     "start_time": "2019-04-02T20:25:03.423407-06:00"
    }
   },
   "outputs": [
    {
     "data": {
      "text/plain": [
       "array([[[8, 1, 5, 9, 8],\n",
       "        [9, 4, 3, 0, 3],\n",
       "        [5, 0, 2, 3, 8],\n",
       "        [1, 3, 3, 3, 7]],\n",
       "\n",
       "       [[0, 1, 9, 9, 0],\n",
       "        [4, 7, 3, 2, 7],\n",
       "        [2, 0, 0, 4, 5],\n",
       "        [5, 6, 8, 4, 1]],\n",
       "\n",
       "       [[4, 9, 8, 1, 1],\n",
       "        [7, 9, 9, 3, 6],\n",
       "        [7, 2, 0, 3, 5],\n",
       "        [9, 4, 4, 6, 4]]])"
      ]
     },
     "execution_count": 107,
     "metadata": {},
     "output_type": "execute_result"
    }
   ],
   "source": [
    "x3"
   ]
  },
  {
   "cell_type": "code",
   "execution_count": 108,
   "metadata": {
    "ExecuteTime": {
     "end_time": "2019-04-03T02:26:07.001040Z",
     "start_time": "2019-04-02T20:26:06.993537-06:00"
    }
   },
   "outputs": [
    {
     "name": "stdout",
     "output_type": "stream",
     "text": [
      "int64\n"
     ]
    }
   ],
   "source": [
    "print(x3.dtype) # data type of the array"
   ]
  },
  {
   "cell_type": "code",
   "execution_count": 110,
   "metadata": {
    "ExecuteTime": {
     "end_time": "2019-04-03T02:26:58.539696Z",
     "start_time": "2019-04-02T20:26:58.529205-06:00"
    }
   },
   "outputs": [
    {
     "name": "stdout",
     "output_type": "stream",
     "text": [
      "x3 number of each dimension 3\n",
      "x3 size of each dimension (3, 4, 5)\n",
      "x3 total number of elements  60\n",
      "size in bytes of each element 8 bytes\n",
      "total size of the array 480 bytes\n"
     ]
    }
   ],
   "source": [
    "print('x3 number of each dimension', x3.ndim) #array's number of dimensions\n",
    "print('x3 size of each dimension', x3.shape) #array shape\n",
    "print('x3 total number of elements ', x3.size)# array's number of elements \n",
    "print('size in bytes of each element', x3.itemsize, 'bytes') #bytes of each array element  \n",
    "print('total size of the array', x3.nbytes, 'bytes') #total size in bytes of the array (elements*bytes/element)\n",
    "\n"
   ]
  },
  {
   "cell_type": "markdown",
   "metadata": {},
   "source": [
    "Now let's access the matrix elements. "
   ]
  },
  {
   "cell_type": "code",
   "execution_count": null,
   "metadata": {},
   "outputs": [],
   "source": [
    "x3"
   ]
  },
  {
   "cell_type": "code",
   "execution_count": null,
   "metadata": {},
   "outputs": [],
   "source": [
    "x3[0]"
   ]
  },
  {
   "cell_type": "code",
   "execution_count": null,
   "metadata": {},
   "outputs": [],
   "source": [
    "x3[0][1]"
   ]
  },
  {
   "cell_type": "code",
   "execution_count": null,
   "metadata": {},
   "outputs": [],
   "source": [
    "x3[0][1][2]"
   ]
  },
  {
   "cell_type": "markdown",
   "metadata": {},
   "source": [
    "### One -dimensional arrays"
   ]
  },
  {
   "cell_type": "code",
   "execution_count": null,
   "metadata": {},
   "outputs": [],
   "source": [
    "x = np.arange(10)\n",
    "x"
   ]
  },
  {
   "cell_type": "code",
   "execution_count": null,
   "metadata": {},
   "outputs": [],
   "source": [
    "x[:4]"
   ]
  },
  {
   "cell_type": "code",
   "execution_count": null,
   "metadata": {},
   "outputs": [],
   "source": [
    "x[4:]"
   ]
  },
  {
   "cell_type": "code",
   "execution_count": null,
   "metadata": {},
   "outputs": [],
   "source": [
    "x[4:7]"
   ]
  },
  {
   "cell_type": "code",
   "execution_count": null,
   "metadata": {},
   "outputs": [],
   "source": [
    "x[::2] #every other el1ement"
   ]
  },
  {
   "cell_type": "code",
   "execution_count": null,
   "metadata": {},
   "outputs": [],
   "source": [
    "x[1::2]# every other element starting at index 1"
   ]
  },
  {
   "cell_type": "code",
   "execution_count": null,
   "metadata": {},
   "outputs": [],
   "source": [
    "x[::-1]  # all elements, reversed"
   ]
  },
  {
   "cell_type": "code",
   "execution_count": null,
   "metadata": {},
   "outputs": [],
   "source": [
    "x[::-1]  # all elements, reversed"
   ]
  },
  {
   "cell_type": "markdown",
   "metadata": {},
   "source": [
    "### Back to 3D arrays"
   ]
  },
  {
   "cell_type": "markdown",
   "metadata": {},
   "source": [
    "Subarrays can be reversed together"
   ]
  },
  {
   "cell_type": "code",
   "execution_count": null,
   "metadata": {},
   "outputs": [],
   "source": [
    "x3[:, :, 0]"
   ]
  },
  {
   "cell_type": "code",
   "execution_count": null,
   "metadata": {},
   "outputs": [],
   "source": [
    "x3[:, ::-1, 0]"
   ]
  },
  {
   "cell_type": "code",
   "execution_count": null,
   "metadata": {
    "scrolled": true
   },
   "outputs": [],
   "source": [
    "x3[::-1, ::-1, 0]"
   ]
  },
  {
   "cell_type": "markdown",
   "metadata": {},
   "source": [
    "Reshaping arrays"
   ]
  },
  {
   "cell_type": "code",
   "execution_count": null,
   "metadata": {},
   "outputs": [],
   "source": [
    "grid = np.arange(1, 10)\n",
    "grid"
   ]
  },
  {
   "cell_type": "code",
   "execution_count": null,
   "metadata": {},
   "outputs": [],
   "source": [
    "grid_modified = grid.reshape((3, 3))\n",
    "print(grid_modified)"
   ]
  },
  {
   "cell_type": "code",
   "execution_count": null,
   "metadata": {},
   "outputs": [],
   "source": [
    "x = np.array([1, 2, 3])\n",
    "y = np.array([3, 2, 1])\n",
    "np.concatenate([x, y])"
   ]
  },
  {
   "cell_type": "code",
   "execution_count": null,
   "metadata": {},
   "outputs": [],
   "source": [
    "grid = np.array([[1, 2, 3],\n",
    "                 [4, 5, 6]])\n",
    "\n",
    "\n",
    "# concatenate along the first axis\n",
    "np.concatenate([grid, grid])\n"
   ]
  },
  {
   "cell_type": "code",
   "execution_count": null,
   "metadata": {},
   "outputs": [],
   "source": [
    "# concatenate along the second axis\n",
    "np.concatenate([grid, grid], axis = 1)"
   ]
  },
  {
   "cell_type": "code",
   "execution_count": null,
   "metadata": {},
   "outputs": [],
   "source": [
    "x = np.array([1, 2, 3])\n",
    "grid = np.array([[9, 8, 7],\n",
    "                 [6, 5, 4]])\n",
    "\n",
    "# vertically stack the arrays\n",
    "np.vstack([x, grid])"
   ]
  },
  {
   "cell_type": "code",
   "execution_count": null,
   "metadata": {},
   "outputs": [],
   "source": [
    "grid"
   ]
  },
  {
   "cell_type": "code",
   "execution_count": null,
   "metadata": {},
   "outputs": [],
   "source": [
    "# horizontally stack the arrays\n",
    "y = np.array([[99],\n",
    "              [99]])\n",
    "np.hstack([grid, y])"
   ]
  },
  {
   "cell_type": "markdown",
   "metadata": {},
   "source": [
    "### Sets"
   ]
  },
  {
   "cell_type": "markdown",
   "metadata": {},
   "source": [
    "Sets are unordered collections of distinct hashable objects."
   ]
  },
  {
   "cell_type": "code",
   "execution_count": null,
   "metadata": {},
   "outputs": [],
   "source": [
    "nodes = set ([2 ,4 ,6 ,8 ,10 ,12])\n",
    "nodes"
   ]
  },
  {
   "cell_type": "code",
   "execution_count": null,
   "metadata": {},
   "outputs": [],
   "source": [
    "nodes.add (14)\n",
    "nodes"
   ]
  },
  {
   "cell_type": "code",
   "execution_count": null,
   "metadata": {},
   "outputs": [],
   "source": [
    "nodes.add (6) # adding a single item at a time\n",
    "print(nodes)\n",
    "nodes.update ([6 ,14]) # item adding multiple items at a time\n",
    "print(nodes)"
   ]
  },
  {
   "cell_type": "code",
   "execution_count": null,
   "metadata": {},
   "outputs": [],
   "source": [
    "word = \"an -ti -dis -es -tab -lish -ment -ar -i-an - ism \" # syllabified\n",
    "word = word.replace (\"-\",\"\")\n",
    "letters = set(word)\n",
    "count = len(letters)"
   ]
  },
  {
   "cell_type": "code",
   "execution_count": null,
   "metadata": {},
   "outputs": [],
   "source": [
    "count"
   ]
  },
  {
   "cell_type": "code",
   "execution_count": null,
   "metadata": {},
   "outputs": [],
   "source": [
    "count = len(set(\"floc -ci -nau -ci -ni -hil -i-pil -i-fi -ca - tion \".replace(\"-\",\"\")))\n",
    "count"
   ]
  },
  {
   "cell_type": "markdown",
   "metadata": {},
   "source": [
    "##### Dictionaries"
   ]
  },
  {
   "cell_type": "markdown",
   "metadata": {},
   "source": [
    "Dictionaries are mappings from key objects to value objects."
   ]
  },
  {
   "cell_type": "code",
   "execution_count": null,
   "metadata": {},
   "outputs": [],
   "source": [
    "md = {}\n",
    "md = dict ()\n",
    "age = {'tim': 29, 'jim': 31, 'pam': 27}\n",
    "age ['tim']\n"
   ]
  },
  {
   "cell_type": "code",
   "execution_count": null,
   "metadata": {},
   "outputs": [],
   "source": [
    "age ['tim'] = age ['tim'] + 1\n"
   ]
  },
  {
   "cell_type": "code",
   "execution_count": null,
   "metadata": {},
   "outputs": [],
   "source": [
    "age ['tim']"
   ]
  },
  {
   "cell_type": "code",
   "execution_count": null,
   "metadata": {},
   "outputs": [],
   "source": [
    "age ['tim'] += 1\n",
    "age['tim']"
   ]
  },
  {
   "cell_type": "code",
   "execution_count": null,
   "metadata": {},
   "outputs": [],
   "source": [
    "age ['tom'] = 45"
   ]
  },
  {
   "cell_type": "code",
   "execution_count": null,
   "metadata": {},
   "outputs": [],
   "source": [
    "age.keys()"
   ]
  },
  {
   "cell_type": "code",
   "execution_count": null,
   "metadata": {},
   "outputs": [],
   "source": [
    "age.values()"
   ]
  },
  {
   "cell_type": "code",
   "execution_count": null,
   "metadata": {},
   "outputs": [],
   "source": [
    "age['tim'] ## a way to get the values of a specific key"
   ]
  },
  {
   "cell_type": "code",
   "execution_count": null,
   "metadata": {},
   "outputs": [],
   "source": [
    "for name in sorted (age.keys() , reverse = True ):\n",
    "    print (name , age[name])"
   ]
  },
  {
   "cell_type": "markdown",
   "metadata": {},
   "source": [
    "#### List comprehension"
   ]
  },
  {
   "cell_type": "code",
   "execution_count": null,
   "metadata": {},
   "outputs": [],
   "source": [
    "numbers = [0, 1, 2, 3, 4, 5, 6, 7, 8, 9, 10]\n",
    "squares = []\n",
    "for n in numbers :\n",
    "    squares.append (n*n)"
   ]
  },
  {
   "cell_type": "code",
   "execution_count": null,
   "metadata": {},
   "outputs": [],
   "source": [
    "print(numbers, squares)\n"
   ]
  },
  {
   "cell_type": "markdown",
   "metadata": {},
   "source": [
    "If we just care about the squares we can do the following "
   ]
  },
  {
   "cell_type": "code",
   "execution_count": null,
   "metadata": {},
   "outputs": [],
   "source": [
    "squares = [n*n for n in range (0 ,11)]"
   ]
  },
  {
   "cell_type": "code",
   "execution_count": null,
   "metadata": {
    "scrolled": true
   },
   "outputs": [],
   "source": [
    "squares"
   ]
  },
  {
   "cell_type": "markdown",
   "metadata": {},
   "source": [
    "We can do multiple iterations. "
   ]
  },
  {
   "cell_type": "code",
   "execution_count": null,
   "metadata": {
    "ExecuteTime": {
     "end_time": "2019-02-23T23:02:49.377889Z",
     "start_time": "2019-02-23T17:02:49.359420-06:00"
    }
   },
   "outputs": [],
   "source": [
    "[(i, j) for i in range(2) for j in range(3)]"
   ]
  },
  {
   "cell_type": "markdown",
   "metadata": {},
   "source": [
    "We can also integrate conditionals inside the iterator:"
   ]
  },
  {
   "cell_type": "code",
   "execution_count": null,
   "metadata": {
    "ExecuteTime": {
     "end_time": "2019-02-23T23:03:26.837810Z",
     "start_time": "2019-02-23T17:03:26.829895-06:00"
    }
   },
   "outputs": [],
   "source": [
    "[val for val in range(20) if val % 3 > 0]"
   ]
  },
  {
   "cell_type": "markdown",
   "metadata": {},
   "source": [
    "Which is equivalent of running the following:"
   ]
  },
  {
   "cell_type": "code",
   "execution_count": null,
   "metadata": {
    "ExecuteTime": {
     "end_time": "2019-02-23T23:03:48.755595Z",
     "start_time": "2019-02-23T17:03:48.747328-06:00"
    }
   },
   "outputs": [],
   "source": [
    "L = []\n",
    "for val in range(20):\n",
    "    if val % 3:\n",
    "        L.append(val)\n",
    "L"
   ]
  },
  {
   "cell_type": "markdown",
   "metadata": {},
   "source": [
    "We can also make set comprehension using curly braces:"
   ]
  },
  {
   "cell_type": "code",
   "execution_count": 1,
   "metadata": {
    "ExecuteTime": {
     "end_time": "2019-03-21T16:11:52.735604Z",
     "start_time": "2019-03-21T10:11:52.711923-06:00"
    }
   },
   "outputs": [
    {
     "data": {
      "text/plain": [
       "{0, 1, 4, 9, 16, 25, 36, 49, 64, 81, 100, 121}"
      ]
     },
     "execution_count": 1,
     "metadata": {},
     "output_type": "execute_result"
    }
   ],
   "source": [
    "{n**2 for n in range(12)}\n"
   ]
  },
  {
   "cell_type": "markdown",
   "metadata": {},
   "source": [
    "Recall that a `set` is a collection that contains no duplicates. The `set` comprehension respects this rule, and eliminates any duplicate entries:"
   ]
  },
  {
   "cell_type": "code",
   "execution_count": null,
   "metadata": {
    "ExecuteTime": {
     "end_time": "2019-02-23T23:06:00.558433Z",
     "start_time": "2019-02-23T17:06:00.550886-06:00"
    }
   },
   "outputs": [],
   "source": [
    "{a % 3 for a in range(1000)}"
   ]
  },
  {
   "cell_type": "markdown",
   "metadata": {},
   "source": [
    "You can also make `dict` comprehension. "
   ]
  },
  {
   "cell_type": "code",
   "execution_count": 3,
   "metadata": {
    "ExecuteTime": {
     "end_time": "2019-03-21T16:13:12.493149Z",
     "start_time": "2019-03-21T10:13:12.485799-06:00"
    }
   },
   "outputs": [
    {
     "data": {
      "text/plain": [
       "{0: 0, 1: 1, 2: 4, 3: 9, 4: 16, 5: 25}"
      ]
     },
     "execution_count": 3,
     "metadata": {},
     "output_type": "execute_result"
    }
   ],
   "source": [
    "{x:x**2 for x in range(6)}"
   ]
  },
  {
   "cell_type": "markdown",
   "metadata": {},
   "source": [
    "##### Functions"
   ]
  },
  {
   "cell_type": "code",
   "execution_count": null,
   "metadata": {},
   "outputs": [],
   "source": [
    "def add (a,b):\n",
    "    result = a + b\n",
    "    return result"
   ]
  },
  {
   "cell_type": "code",
   "execution_count": null,
   "metadata": {},
   "outputs": [],
   "source": [
    "add(2,9)"
   ]
  },
  {
   "cell_type": "code",
   "execution_count": null,
   "metadata": {},
   "outputs": [],
   "source": [
    "def password ( length ):\n",
    "    characters = \" abcdefghijklmnopqrstuvwxyz \"\n",
    "    pw = str ()\n",
    "    for i in range ( length ):\n",
    "        pw = pw + random . choice ( characters )\n",
    "    return pw"
   ]
  },
  {
   "cell_type": "code",
   "execution_count": null,
   "metadata": {},
   "outputs": [],
   "source": [
    "password(12)"
   ]
  },
  {
   "cell_type": "markdown",
   "metadata": {},
   "source": [
    "Let's use define a (silly) function. We'll just showcase the use of a `for` loop and a `if/elif` statement."
   ]
  },
  {
   "cell_type": "code",
   "execution_count": null,
   "metadata": {},
   "outputs": [],
   "source": [
    "def dont_print_tom_pam(names):\n",
    "    '''Iterate over the names dictionary, dont print out the names tom or pam'''\n",
    "    for name in names.keys():\n",
    "        if name is 'tom':\n",
    "            break\n",
    "        elif name is 'pam':\n",
    "            break\n",
    "        print(name)"
   ]
  },
  {
   "cell_type": "code",
   "execution_count": null,
   "metadata": {},
   "outputs": [],
   "source": [
    "dont_print_tom_pam(age) ## executing the function on the age dictionary "
   ]
  },
  {
   "cell_type": "markdown",
   "metadata": {},
   "source": [
    "### Plotting "
   ]
  },
  {
   "cell_type": "markdown",
   "metadata": {},
   "source": [
    "Let's make some plots. Matplotlib.pyplot is the most widely used library for plotting in Python. Remember we imported it as `plt`"
   ]
  },
  {
   "cell_type": "code",
   "execution_count": null,
   "metadata": {},
   "outputs": [],
   "source": [
    "# Generate data to plot\n",
    "x = np.linspace(0, 10, 200)\n",
    "y = np.sin(x)\n"
   ]
  },
  {
   "cell_type": "code",
   "execution_count": null,
   "metadata": {},
   "outputs": [],
   "source": [
    "plt.plot(x,y)\n",
    "plt.title('Plotting Sine in Python is Easy as 123', fontsize = 18)"
   ]
  },
  {
   "cell_type": "markdown",
   "metadata": {},
   "source": [
    "### Differential Equations"
   ]
  },
  {
   "cell_type": "markdown",
   "metadata": {},
   "source": [
    "Let's code the [Predator-Prey Model](http://www.scholarpedia.org/article/Predator-prey_model). "
   ]
  },
  {
   "cell_type": "code",
   "execution_count": null,
   "metadata": {},
   "outputs": [],
   "source": [
    "?odeint"
   ]
  },
  {
   "cell_type": "code",
   "execution_count": null,
   "metadata": {},
   "outputs": [],
   "source": [
    "a,b,c,d = 1,1.1,1,1.4\n",
    "\n",
    "def dP_dt(P,t):\n",
    "    return [P[0]*(a-b*P[1]), -P[1]*(c-d*P[0])]\n",
    "\n",
    "ts= np.linspace(0,25, 10000)\n",
    "P0= [1.0, 2]\n",
    "Ps= odeint(dP_dt, P0, ts)\n",
    "prey= Ps[:,0]\n",
    "predator= Ps[:,1]"
   ]
  },
  {
   "cell_type": "markdown",
   "metadata": {},
   "source": [
    "Let's plot our results."
   ]
  },
  {
   "cell_type": "code",
   "execution_count": null,
   "metadata": {
    "scrolled": false
   },
   "outputs": [],
   "source": [
    "plt.plot(ts, prey, 'c-', label= 'Rabbits')\n",
    "plt.plot(ts, predator, 'y-', label= 'Foxes')\n",
    "plt.xlabel('$Time$')\n",
    "plt.ylabel('Population')\n",
    "plt.title('Predator-Prey Model', fontsize= 18)\n",
    "plt.legend()\n",
    "plt.show()"
   ]
  },
  {
   "cell_type": "markdown",
   "metadata": {},
   "source": [
    "Let's look at the phase space. "
   ]
  },
  {
   "cell_type": "code",
   "execution_count": null,
   "metadata": {},
   "outputs": [],
   "source": [
    "plt.plot(prey, predator, 'c-')\n",
    "plt.xlabel('Rabbits')\n",
    "plt.ylabel('Foxes')\n",
    "plt.title('Predator-Prey Model Phase Space', fontsize= 18)\n",
    "plt.show()"
   ]
  },
  {
   "cell_type": "markdown",
   "metadata": {},
   "source": [
    "Let's code up several trajectories to see if the dynamics are similar. "
   ]
  },
  {
   "cell_type": "code",
   "execution_count": null,
   "metadata": {},
   "outputs": [],
   "source": [
    "prey_states = np.linspace(1.,5, 5)\n",
    "for i, prey in enumerate(prey_states): \n",
    "        P0= [prey, 3]\n",
    "        Ps= odeint(dP_dt, P0, ts)\n",
    "        \n",
    "        \n",
    "\n",
    "        plt.plot(Ps[:,0], Ps[:, 1], label = 'Prey starting condition = {0}'.format(prey))\n",
    "\n",
    "plt.xlabel('Rabbits')\n",
    "plt.ylabel('Foxes')\n",
    "plt.legend()\n",
    "\n",
    "plt.title('Phase Space', fontsize= 18)"
   ]
  },
  {
   "cell_type": "markdown",
   "metadata": {},
   "source": [
    "Let's write it into a function."
   ]
  },
  {
   "cell_type": "code",
   "execution_count": null,
   "metadata": {},
   "outputs": [],
   "source": [
    "def plot_phase_space(dP_dt, ts, n_states):\n",
    "    \n",
    "    '''Plots several trajectories of the Predator-Prey Model given different starting\\\n",
    "    prey populations'''\n",
    "    \n",
    "    prey_states = np.linspace(1.,5, n_states)\n",
    "    \n",
    "    for i, prey in enumerate(prey_states): \n",
    "            P0= [prey, 3]\n",
    "            Ps= odeint(dP_dt, P0, ts)\n",
    "\n",
    "\n",
    "\n",
    "            plt.plot(Ps[:,0], Ps[:, 1], label = 'Prey starting condition = {0}'.format(prey))\n",
    "\n",
    "    plt.xlabel('Rabbits')\n",
    "    plt.ylabel('Foxes')\n",
    "    plt.legend()\n",
    "\n",
    "    plt.title('Phase Space', fontsize= 18)\n",
    "    \n"
   ]
  },
  {
   "cell_type": "code",
   "execution_count": null,
   "metadata": {},
   "outputs": [],
   "source": [
    "plot_phase_space(dP_dt, ts, 3) ### Calling the function"
   ]
  },
  {
   "cell_type": "markdown",
   "metadata": {},
   "source": [
    "We can clearly see that they follow a [limit cycle](https://en.wikipedia.org/wiki/Limit_cycle), it represents a self-sustained oscillatory system. "
   ]
  },
  {
   "cell_type": "markdown",
   "metadata": {},
   "source": [
    "#### Best practices for code cells"
   ]
  },
  {
   "cell_type": "markdown",
   "metadata": {},
   "source": [
    "Here is a summary of some general rules for composing and formatting your code cells.\n",
    "\n",
    "1. Keep the width of code in cells below 80 characters.\n",
    "2. Keep your code cells short. If you find yourself having one massive code cell, break it up.\n",
    "3. Always properly comment your code. Provide complete doc strings for any functions you define.\n",
    "4. Import one module per line.\n",
    "5. To publish notebooks, always display your graphics in the notebook."
   ]
  },
  {
   "cell_type": "markdown",
   "metadata": {},
   "source": [
    "#### Conclusions and additional remarks"
   ]
  },
  {
   "cell_type": "markdown",
   "metadata": {},
   "source": [
    "In this tutorial we covered what is Jupyter, what are the basic components of Jupy notebooks, and what can we do with them.\n",
    "\n",
    "Python's modules offer a great deal of tutorials through their documentation. I strongly encourage you to check them out. Moreover, in practice, one can find a lot of information for a specific problem by googling and using Stack Overflow. \n"
   ]
  },
  {
   "cell_type": "markdown",
   "metadata": {},
   "source": [
    "You can find a great follow-up [tutorial](https://learnxinyminutes.com/docs/python3/) here. Learnxiny is a great platform to quickly learn the syntax almost any programming language in a practical way."
   ]
  },
  {
   "cell_type": "code",
   "execution_count": null,
   "metadata": {},
   "outputs": [],
   "source": []
  },
  {
   "cell_type": "code",
   "execution_count": null,
   "metadata": {},
   "outputs": [],
   "source": []
  }
 ],
 "metadata": {
  "kernelspec": {
   "display_name": "Python 3",
   "language": "python",
   "name": "python3"
  },
  "language_info": {
   "codemirror_mode": {
    "name": "ipython",
    "version": 3
   },
   "file_extension": ".py",
   "mimetype": "text/x-python",
   "name": "python",
   "nbconvert_exporter": "python",
   "pygments_lexer": "ipython3",
   "version": "3.7.3"
  },
  "toc": {
   "base_numbering": 1,
   "nav_menu": {},
   "number_sections": true,
   "sideBar": true,
   "skip_h1_title": false,
   "title_cell": "Table of Contents",
   "title_sidebar": "Contents",
   "toc_cell": false,
   "toc_position": {},
   "toc_section_display": true,
   "toc_window_display": false
  },
  "varInspector": {
   "cols": {
    "lenName": 16,
    "lenType": 16,
    "lenVar": 40
   },
   "kernels_config": {
    "python": {
     "delete_cmd_postfix": "",
     "delete_cmd_prefix": "del ",
     "library": "var_list.py",
     "varRefreshCmd": "print(var_dic_list())"
    },
    "r": {
     "delete_cmd_postfix": ") ",
     "delete_cmd_prefix": "rm(",
     "library": "var_list.r",
     "varRefreshCmd": "cat(var_dic_list()) "
    }
   },
   "types_to_exclude": [
    "module",
    "function",
    "builtin_function_or_method",
    "instance",
    "_Feature"
   ],
   "window_display": false
  }
 },
 "nbformat": 4,
 "nbformat_minor": 2
}
